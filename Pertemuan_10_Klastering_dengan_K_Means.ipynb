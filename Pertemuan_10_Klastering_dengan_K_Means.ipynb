{
  "nbformat": 4,
  "nbformat_minor": 0,
  "metadata": {
    "colab": {
      "provenance": []
    },
    "kernelspec": {
      "name": "python3",
      "display_name": "Python 3"
    },
    "language_info": {
      "name": "python"
    }
  },
  "cells": [
    {
      "cell_type": "code",
      "execution_count": 1,
      "metadata": {
        "id": "h-SESpZx5Bhk"
      },
      "outputs": [],
      "source": [
        "import numpy as np"
      ]
    },
    {
      "cell_type": "code",
      "source": [
        "points = {\n",
        "    \"M1\": (1, 4.5),\n",
        "    \"M2\": (3, 6.5),\n",
        "    \"M3\": (4, 4.5),\n",
        "    \"M4\": (7.5, 3.2),\n",
        "    \"M5\": (6, 2.3),\n",
        "    \"M6\": (2.5, 3.8),\n",
        "    \"M7\": (5, 5.5)\n",
        "}"
      ],
      "metadata": {
        "id": "Ttyy6ce45JqD"
      },
      "execution_count": 2,
      "outputs": []
    },
    {
      "cell_type": "code",
      "source": [
        "C1 = (3, 4)\n",
        "C2 = (6, 4)"
      ],
      "metadata": {
        "id": "DGwRY0XF5K-I"
      },
      "execution_count": 3,
      "outputs": []
    },
    {
      "cell_type": "code",
      "source": [
        "def euclidean_distance(point, center):\n",
        "    return np.sqrt((point[0] - center[0])**2 + (point[1] - center[1])**2)"
      ],
      "metadata": {
        "id": "J5NK96xg5L-d"
      },
      "execution_count": 4,
      "outputs": []
    },
    {
      "cell_type": "code",
      "source": [
        "cluster_assignments = {\"C1\": [], \"C2\": []}\n",
        "for label, coords in points.items():\n",
        "    dist_to_C1 = euclidean_distance(coords, C1)\n",
        "    dist_to_C2 = euclidean_distance(coords, C2)\n",
        "    if dist_to_C1 < dist_to_C2:\n",
        "        cluster_assignments[\"C1\"].append(label)\n",
        "    else:\n",
        "        cluster_assignments[\"C2\"].append(label)"
      ],
      "metadata": {
        "id": "JkAjFDVu5NF2"
      },
      "execution_count": 5,
      "outputs": []
    },
    {
      "cell_type": "code",
      "source": [
        "print(\"Cluster C1:\", cluster_assignments[\"C1\"])\n",
        "print(\"Cluster C2:\", cluster_assignments[\"C2\"])"
      ],
      "metadata": {
        "colab": {
          "base_uri": "https://localhost:8080/"
        },
        "id": "057zry9K5O2b",
        "outputId": "2c21863b-1d5f-4145-af73-51e27b5cfc2c"
      },
      "execution_count": 6,
      "outputs": [
        {
          "output_type": "stream",
          "name": "stdout",
          "text": [
            "Cluster C1: ['M1', 'M2', 'M3', 'M6']\n",
            "Cluster C2: ['M4', 'M5', 'M7']\n"
          ]
        }
      ]
    },
    {
      "cell_type": "code",
      "source": [],
      "metadata": {
        "id": "gK7c8QM35Qjn"
      },
      "execution_count": null,
      "outputs": []
    }
  ]
}