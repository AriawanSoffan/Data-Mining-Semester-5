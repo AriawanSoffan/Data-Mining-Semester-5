{
  "nbformat": 4,
  "nbformat_minor": 0,
  "metadata": {
    "colab": {
      "provenance": []
    },
    "kernelspec": {
      "name": "python3",
      "display_name": "Python 3"
    },
    "language_info": {
      "name": "python"
    }
  },
  "cells": [
    {
      "cell_type": "code",
      "execution_count": 11,
      "metadata": {
        "id": "87mtdaaZ7rTi"
      },
      "outputs": [],
      "source": [
        "import itertools"
      ]
    },
    {
      "cell_type": "code",
      "source": [
        "transactions = [\n",
        "    ['Roti', 'Selai', 'Mentega'],  # T1\n",
        "    ['Roti', 'Mentega'],           # T2\n",
        "    ['Roti', 'Susu', 'Mentega'],   # T3\n",
        "    ['Cokelat', 'Roti', 'Susu', 'Mentega'],  # T4\n",
        "    ['Cokelat', 'Susu']            # T5\n",
        "]"
      ],
      "metadata": {
        "id": "GtM5ntjp75zh"
      },
      "execution_count": 12,
      "outputs": []
    },
    {
      "cell_type": "code",
      "source": [
        "minsupp = 0.3\n",
        "minconf = 0.6"
      ],
      "metadata": {
        "id": "BUD5NJ6S79Oi"
      },
      "execution_count": 13,
      "outputs": []
    },
    {
      "cell_type": "code",
      "source": [
        "def calculate_support(itemset, transactions):\n",
        "    count = 0\n",
        "    for transaction in transactions:\n",
        "        if all(item in transaction for item in itemset):\n",
        "            count += 1\n",
        "    return count / len(transactions)"
      ],
      "metadata": {
        "id": "8MKKSPwl7--M"
      },
      "execution_count": 14,
      "outputs": []
    },
    {
      "cell_type": "code",
      "source": [
        "def calculate_confidence(antecedent, consequent, transactions):\n",
        "    support_antecedent = calculate_support(antecedent, transactions)\n",
        "    support_antecedent_consequent = calculate_support(antecedent + consequent, transactions)\n",
        "    return support_antecedent_consequent / support_antecedent if support_antecedent > 0 else 0"
      ],
      "metadata": {
        "id": "1VH9LiOU7-BY"
      },
      "execution_count": 15,
      "outputs": []
    },
    {
      "cell_type": "code",
      "source": [
        "items = ['Roti', 'Selai', 'Mentega', 'Susu', 'Cokelat']"
      ],
      "metadata": {
        "id": "atZ6i6dW8Ask"
      },
      "execution_count": 16,
      "outputs": []
    },
    {
      "cell_type": "code",
      "source": [
        "frequent_itemsets = []\n",
        "for i in range(1, len(items) + 1):\n",
        "    for itemset in itertools.combinations(items, i):\n",
        "        support = calculate_support(itemset, transactions)\n",
        "        if support >= minsupp:\n",
        "            frequent_itemsets.append((itemset, support))"
      ],
      "metadata": {
        "id": "DcwvZNZ28Cwk"
      },
      "execution_count": 17,
      "outputs": []
    },
    {
      "cell_type": "code",
      "source": [
        "association_rules = []\n",
        "for antecedent, _ in frequent_itemsets:\n",
        "    for consequent, _ in frequent_itemsets:\n",
        "        if set(antecedent).isdisjoint(set(consequent)):\n",
        "            confidence = calculate_confidence(antecedent, consequent, transactions)\n",
        "            if confidence >= minconf:\n",
        "                association_rules.append((antecedent, consequent, confidence))"
      ],
      "metadata": {
        "id": "tUBvpUMd8EBb"
      },
      "execution_count": 17,
      "outputs": []
    },
    {
      "cell_type": "code",
      "source": [
        "frequent_itemsets, association_rules"
      ],
      "metadata": {
        "colab": {
          "base_uri": "https://localhost:8080/"
        },
        "id": "Rv69h0ky8Fgp",
        "outputId": "8eb2d326-6b5c-4275-9568-526817ebe096"
      },
      "execution_count": 18,
      "outputs": [
        {
          "output_type": "execute_result",
          "data": {
            "text/plain": [
              "([(('Roti',), 0.8),\n",
              "  (('Mentega',), 0.8),\n",
              "  (('Susu',), 0.6),\n",
              "  (('Cokelat',), 0.4),\n",
              "  (('Roti', 'Mentega'), 0.8),\n",
              "  (('Roti', 'Susu'), 0.4),\n",
              "  (('Mentega', 'Susu'), 0.4),\n",
              "  (('Susu', 'Cokelat'), 0.4),\n",
              "  (('Roti', 'Mentega', 'Susu'), 0.4)],\n",
              " [(('Roti',), ('Mentega',), 1.0),\n",
              "  (('Mentega',), ('Roti',), 1.0),\n",
              "  (('Susu',), ('Roti',), 0.6666666666666667),\n",
              "  (('Susu',), ('Mentega',), 0.6666666666666667),\n",
              "  (('Susu',), ('Cokelat',), 0.6666666666666667),\n",
              "  (('Susu',), ('Roti', 'Mentega'), 0.6666666666666667),\n",
              "  (('Cokelat',), ('Susu',), 1.0),\n",
              "  (('Roti', 'Susu'), ('Mentega',), 1.0),\n",
              "  (('Mentega', 'Susu'), ('Roti',), 1.0)])"
            ]
          },
          "metadata": {},
          "execution_count": 18
        }
      ]
    },
    {
      "cell_type": "code",
      "source": [],
      "metadata": {
        "id": "R4M0HFhl8UH0"
      },
      "execution_count": null,
      "outputs": []
    }
  ]
}